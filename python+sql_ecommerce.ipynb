{
 "cells": [
  {
   "cell_type": "code",
   "execution_count": 1,
   "id": "9b38d77f-f9e3-4357-abc9-223c6a090aa4",
   "metadata": {},
   "outputs": [],
   "source": [
    "import pandas as pd\n",
    "import numpy as np\n",
    "import matplotlib.pyplot as plt\n",
    "import seaborn as sns\n",
    "import mysql.connector\n",
    "\n",
    "db = mysql.connector.connect(\n",
    "    host = \"127.0.0.1\",\n",
    "    username = \"root\",\n",
    "    password = \"*Sakshi741\",\n",
    "    database = \"ecommerce\"\n",
    ")\n",
    "cur = db.cursor()"
   ]
  },
  {
   "cell_type": "markdown",
   "id": "fe84ea1f-047d-46e3-9b61-a92272a0c797",
   "metadata": {},
   "source": [
    "# List all unique cities where customers are located"
   ]
  },
  {
   "cell_type": "code",
   "execution_count": 55,
   "id": "a52c5deb-f160-4890-9624-1b962229fec5",
   "metadata": {},
   "outputs": [
    {
     "data": {
      "text/html": [
       "<div>\n",
       "<style scoped>\n",
       "    .dataframe tbody tr th:only-of-type {\n",
       "        vertical-align: middle;\n",
       "    }\n",
       "\n",
       "    .dataframe tbody tr th {\n",
       "        vertical-align: top;\n",
       "    }\n",
       "\n",
       "    .dataframe thead th {\n",
       "        text-align: right;\n",
       "    }\n",
       "</style>\n",
       "<table border=\"1\" class=\"dataframe\">\n",
       "  <thead>\n",
       "    <tr style=\"text-align: right;\">\n",
       "      <th></th>\n",
       "      <th>0</th>\n",
       "    </tr>\n",
       "  </thead>\n",
       "  <tbody>\n",
       "    <tr>\n",
       "      <th>0</th>\n",
       "      <td>franca</td>\n",
       "    </tr>\n",
       "    <tr>\n",
       "      <th>1</th>\n",
       "      <td>sao bernardo do campo</td>\n",
       "    </tr>\n",
       "    <tr>\n",
       "      <th>2</th>\n",
       "      <td>sao paulo</td>\n",
       "    </tr>\n",
       "    <tr>\n",
       "      <th>3</th>\n",
       "      <td>mogi das cruzes</td>\n",
       "    </tr>\n",
       "    <tr>\n",
       "      <th>4</th>\n",
       "      <td>campinas</td>\n",
       "    </tr>\n",
       "    <tr>\n",
       "      <th>...</th>\n",
       "      <td>...</td>\n",
       "    </tr>\n",
       "    <tr>\n",
       "      <th>4114</th>\n",
       "      <td>siriji</td>\n",
       "    </tr>\n",
       "    <tr>\n",
       "      <th>4115</th>\n",
       "      <td>natividade da serra</td>\n",
       "    </tr>\n",
       "    <tr>\n",
       "      <th>4116</th>\n",
       "      <td>monte bonito</td>\n",
       "    </tr>\n",
       "    <tr>\n",
       "      <th>4117</th>\n",
       "      <td>sao rafael</td>\n",
       "    </tr>\n",
       "    <tr>\n",
       "      <th>4118</th>\n",
       "      <td>eugenio de castro</td>\n",
       "    </tr>\n",
       "  </tbody>\n",
       "</table>\n",
       "<p>4119 rows × 1 columns</p>\n",
       "</div>"
      ],
      "text/plain": [
       "                          0\n",
       "0                    franca\n",
       "1     sao bernardo do campo\n",
       "2                 sao paulo\n",
       "3           mogi das cruzes\n",
       "4                  campinas\n",
       "...                     ...\n",
       "4114                 siriji\n",
       "4115    natividade da serra\n",
       "4116           monte bonito\n",
       "4117             sao rafael\n",
       "4118      eugenio de castro\n",
       "\n",
       "[4119 rows x 1 columns]"
      ]
     },
     "execution_count": 55,
     "metadata": {},
     "output_type": "execute_result"
    }
   ],
   "source": [
    "query = \"\"\" select distinct customer_city from customers \"\"\"\n",
    "\n",
    "cur.execute(query)\n",
    "\n",
    "data = cur.fetchall()\n",
    "\n",
    "data\n",
    "\n",
    "df = pd.DataFrame(data)\n",
    "df"
   ]
  },
  {
   "cell_type": "markdown",
   "id": "dbbaaae0-ae85-4e63-bc75-37a3a9d49ab9",
   "metadata": {},
   "source": [
    "# Count the number of orders placed in 2017"
   ]
  },
  {
   "cell_type": "code",
   "execution_count": 11,
   "id": "0c0b24e6-1b5e-49f7-9462-a6943371d34f",
   "metadata": {},
   "outputs": [
    {
     "data": {
      "text/plain": [
       "('Total orders placed in 2017 are', 45101)"
      ]
     },
     "execution_count": 11,
     "metadata": {},
     "output_type": "execute_result"
    }
   ],
   "source": [
    "query = \"\"\" select count(order_id) from orders where year(order_purchase_timestamp)=2017 \"\"\"\n",
    "\n",
    "cur.execute(query)\n",
    "\n",
    "data = cur.fetchall()\n",
    "\n",
    "\"Total orders placed in 2017 are\", data[0][0]"
   ]
  },
  {
   "cell_type": "markdown",
   "id": "de0e2d54-f7b4-485f-8397-59eca6658e9a",
   "metadata": {},
   "source": [
    "# Find the total sales per category"
   ]
  },
  {
   "cell_type": "code",
   "execution_count": 17,
   "id": "66a28316-35a4-481c-82ef-aceb9e63d08c",
   "metadata": {},
   "outputs": [
    {
     "data": {
      "text/html": [
       "<div>\n",
       "<style scoped>\n",
       "    .dataframe tbody tr th:only-of-type {\n",
       "        vertical-align: middle;\n",
       "    }\n",
       "\n",
       "    .dataframe tbody tr th {\n",
       "        vertical-align: top;\n",
       "    }\n",
       "\n",
       "    .dataframe thead th {\n",
       "        text-align: right;\n",
       "    }\n",
       "</style>\n",
       "<table border=\"1\" class=\"dataframe\">\n",
       "  <thead>\n",
       "    <tr style=\"text-align: right;\">\n",
       "      <th></th>\n",
       "      <th>category</th>\n",
       "      <th>sales</th>\n",
       "    </tr>\n",
       "  </thead>\n",
       "  <tbody>\n",
       "    <tr>\n",
       "      <th>0</th>\n",
       "      <td>perfumery</td>\n",
       "      <td>506738.66</td>\n",
       "    </tr>\n",
       "    <tr>\n",
       "      <th>1</th>\n",
       "      <td>Furniture Decoration</td>\n",
       "      <td>1430176.39</td>\n",
       "    </tr>\n",
       "    <tr>\n",
       "      <th>2</th>\n",
       "      <td>telephony</td>\n",
       "      <td>486882.05</td>\n",
       "    </tr>\n",
       "    <tr>\n",
       "      <th>3</th>\n",
       "      <td>bed table bath</td>\n",
       "      <td>1712553.67</td>\n",
       "    </tr>\n",
       "    <tr>\n",
       "      <th>4</th>\n",
       "      <td>automotive</td>\n",
       "      <td>852294.33</td>\n",
       "    </tr>\n",
       "    <tr>\n",
       "      <th>...</th>\n",
       "      <td>...</td>\n",
       "      <td>...</td>\n",
       "    </tr>\n",
       "    <tr>\n",
       "      <th>69</th>\n",
       "      <td>cds music dvds</td>\n",
       "      <td>1199.43</td>\n",
       "    </tr>\n",
       "    <tr>\n",
       "      <th>70</th>\n",
       "      <td>La Cuisine</td>\n",
       "      <td>2913.53</td>\n",
       "    </tr>\n",
       "    <tr>\n",
       "      <th>71</th>\n",
       "      <td>Fashion Children's Clothing</td>\n",
       "      <td>785.67</td>\n",
       "    </tr>\n",
       "    <tr>\n",
       "      <th>72</th>\n",
       "      <td>PC Gamer</td>\n",
       "      <td>2174.43</td>\n",
       "    </tr>\n",
       "    <tr>\n",
       "      <th>73</th>\n",
       "      <td>insurance and services</td>\n",
       "      <td>324.51</td>\n",
       "    </tr>\n",
       "  </tbody>\n",
       "</table>\n",
       "<p>74 rows × 2 columns</p>\n",
       "</div>"
      ],
      "text/plain": [
       "                       category       sales\n",
       "0                     perfumery   506738.66\n",
       "1          Furniture Decoration  1430176.39\n",
       "2                     telephony   486882.05\n",
       "3                bed table bath  1712553.67\n",
       "4                    automotive   852294.33\n",
       "..                          ...         ...\n",
       "69               cds music dvds     1199.43\n",
       "70                   La Cuisine     2913.53\n",
       "71  Fashion Children's Clothing      785.67\n",
       "72                     PC Gamer     2174.43\n",
       "73       insurance and services      324.51\n",
       "\n",
       "[74 rows x 2 columns]"
      ]
     },
     "execution_count": 17,
     "metadata": {},
     "output_type": "execute_result"
    }
   ],
   "source": [
    "query = \"\"\" select products.product_category category, round(sum(payments.payment_value),2) sales\n",
    "from products join order_items\n",
    "on products.product_id = order_items.product_id\n",
    "join payments\n",
    "on payments.order_id = order_items.order_id\n",
    "group by category\n",
    "\"\"\"\n",
    "\n",
    "cur.execute(query)\n",
    "\n",
    "data = cur.fetchall()\n",
    "\n",
    "df = pd.DataFrame(data, columns = [\"category\",\"sales\"])\n",
    "df"
   ]
  },
  {
   "cell_type": "markdown",
   "id": "7a82346d-a6d8-4016-b4f1-1a1e3350437b",
   "metadata": {},
   "source": [
    "# Calculate the percentage of total revenue contributed by each product category"
   ]
  },
  {
   "cell_type": "code",
   "execution_count": 91,
   "id": "a485ee95-35a5-44cd-a398-30665d675243",
   "metadata": {},
   "outputs": [
    {
     "data": {
      "text/html": [
       "<div>\n",
       "<style scoped>\n",
       "    .dataframe tbody tr th:only-of-type {\n",
       "        vertical-align: middle;\n",
       "    }\n",
       "\n",
       "    .dataframe tbody tr th {\n",
       "        vertical-align: top;\n",
       "    }\n",
       "\n",
       "    .dataframe thead th {\n",
       "        text-align: right;\n",
       "    }\n",
       "</style>\n",
       "<table border=\"1\" class=\"dataframe\">\n",
       "  <thead>\n",
       "    <tr style=\"text-align: right;\">\n",
       "      <th></th>\n",
       "      <th>category</th>\n",
       "      <th>sales percentage</th>\n",
       "    </tr>\n",
       "  </thead>\n",
       "  <tbody>\n",
       "    <tr>\n",
       "      <th>0</th>\n",
       "      <td>bed table bath</td>\n",
       "      <td>10.70</td>\n",
       "    </tr>\n",
       "    <tr>\n",
       "      <th>1</th>\n",
       "      <td>HEALTH BEAUTY</td>\n",
       "      <td>10.35</td>\n",
       "    </tr>\n",
       "    <tr>\n",
       "      <th>2</th>\n",
       "      <td>computer accessories</td>\n",
       "      <td>9.90</td>\n",
       "    </tr>\n",
       "    <tr>\n",
       "      <th>3</th>\n",
       "      <td>Furniture Decoration</td>\n",
       "      <td>8.93</td>\n",
       "    </tr>\n",
       "    <tr>\n",
       "      <th>4</th>\n",
       "      <td>Watches present</td>\n",
       "      <td>8.93</td>\n",
       "    </tr>\n",
       "    <tr>\n",
       "      <th>...</th>\n",
       "      <td>...</td>\n",
       "      <td>...</td>\n",
       "    </tr>\n",
       "    <tr>\n",
       "      <th>69</th>\n",
       "      <td>House Comfort 2</td>\n",
       "      <td>0.01</td>\n",
       "    </tr>\n",
       "    <tr>\n",
       "      <th>70</th>\n",
       "      <td>cds music dvds</td>\n",
       "      <td>0.01</td>\n",
       "    </tr>\n",
       "    <tr>\n",
       "      <th>71</th>\n",
       "      <td>PC Gamer</td>\n",
       "      <td>0.01</td>\n",
       "    </tr>\n",
       "    <tr>\n",
       "      <th>72</th>\n",
       "      <td>Fashion Children's Clothing</td>\n",
       "      <td>0.00</td>\n",
       "    </tr>\n",
       "    <tr>\n",
       "      <th>73</th>\n",
       "      <td>insurance and services</td>\n",
       "      <td>0.00</td>\n",
       "    </tr>\n",
       "  </tbody>\n",
       "</table>\n",
       "<p>74 rows × 2 columns</p>\n",
       "</div>"
      ],
      "text/plain": [
       "                       category  sales percentage\n",
       "0                bed table bath             10.70\n",
       "1                 HEALTH BEAUTY             10.35\n",
       "2          computer accessories              9.90\n",
       "3          Furniture Decoration              8.93\n",
       "4               Watches present              8.93\n",
       "..                          ...               ...\n",
       "69              House Comfort 2              0.01\n",
       "70               cds music dvds              0.01\n",
       "71                     PC Gamer              0.01\n",
       "72  Fashion Children's Clothing              0.00\n",
       "73       insurance and services              0.00\n",
       "\n",
       "[74 rows x 2 columns]"
      ]
     },
     "execution_count": 91,
     "metadata": {},
     "output_type": "execute_result"
    }
   ],
   "source": [
    "query = \"\"\" select products.product_category category, \n",
    "round((sum(payments.payment_value)/(select sum(payment_value) from payments))*100,2) sales\n",
    "from products join order_items\n",
    "on products.product_id = order_items.product_id\n",
    "join payments\n",
    "on payments.order_id = order_items.order_id\n",
    "group by category order by sales desc \"\"\"\n",
    "\n",
    "cur.execute(query)\n",
    "\n",
    "data = cur.fetchall()\n",
    "\n",
    "df = pd.DataFrame(data, columns = [\"category\",\"sales percentage\"])\n",
    "df"
   ]
  },
  {
   "cell_type": "markdown",
   "id": "61f935e5-7ac6-4a58-bfd3-f383486ea60a",
   "metadata": {},
   "source": [
    "# Calculate the percentage of orders that were paid in installments"
   ]
  },
  {
   "cell_type": "code",
   "execution_count": 31,
   "id": "412ebf94-5384-483c-9d2d-09e95b3dbdf9",
   "metadata": {},
   "outputs": [
    {
     "data": {
      "text/plain": [
       "('The percentage of orders that were paid in installments is',\n",
       " [(Decimal('99.9981'),)])"
      ]
     },
     "execution_count": 31,
     "metadata": {},
     "output_type": "execute_result"
    }
   ],
   "source": [
    "query = \"\"\" select (sum(case when payment_installments>0 then 1 \n",
    "else 0 end))/count(*)*100 from payments \"\"\"\n",
    "\n",
    "cur.execute(query)\n",
    "\n",
    "data = cur.fetchall()\n",
    "\"The percentage of orders that were paid in installments is\", data"
   ]
  },
  {
   "cell_type": "markdown",
   "id": "1582e0be-7c03-4ed1-8e89-5e4c7a459618",
   "metadata": {},
   "source": [
    "# Count the number of customers from each state."
   ]
  },
  {
   "cell_type": "code",
   "execution_count": 81,
   "id": "f2e64f30-4135-4294-a97a-3b2cc9e872e6",
   "metadata": {},
   "outputs": [
    {
     "data": {
      "text/plain": [
       "<function matplotlib.pyplot.show(close=None, block=None)>"
      ]
     },
     "execution_count": 81,
     "metadata": {},
     "output_type": "execute_result"
    },
    {
     "data": {
      "image/png": "[encoded data removed]",
      "text/plain": [
       "<Figure size 800x300 with 1 Axes>"
      ]
     },
     "metadata": {},
     "output_type": "display_data"
    }
   ],
   "source": [
    "query = \"\"\" select customer_state, count(customer_id) from customers group by customer_state\"\"\"\n",
    "\n",
    "cur.execute(query)\n",
    "\n",
    "data = cur.fetchall()\n",
    "\n",
    "df = pd.DataFrame(data, columns = [\"State\",\"customer_count\"])\n",
    "df = df.sort_values(by = \"customer_count\", ascending=False)\n",
    "\n",
    "plt.figure(figsize = (8,3))\n",
    "plt.bar(df[\"State\"], df[\"customer_count\"])\n",
    "plt.xticks(rotation = 90 )\n",
    "plt.xlabel(\"states\")\n",
    "plt.ylabel(\"customer_count\")\n",
    "plt.title(\"Count of customers by state\")\n",
    "plt.show"
   ]
  },
  {
   "cell_type": "markdown",
   "id": "e32b485e-5fa5-4fb6-aae3-7cb880794760",
   "metadata": {},
   "source": [
    "# Calculate the number of orders per month in 2018"
   ]
  },
  {
   "cell_type": "code",
   "execution_count": 69,
   "id": "7d1f857b-d70e-462a-9236-72955b820f66",
   "metadata": {},
   "outputs": [
    {
     "data": {
      "image/png": "[encoded data removed]",
      "text/plain": [
       "<Figure size 640x480 with 1 Axes>"
      ]
     },
     "metadata": {},
     "output_type": "display_data"
    }
   ],
   "source": [
    "query = \"\"\" select monthname(order_purchase_timestamp) months, count(order_id) from orders \n",
    "where year(order_purchase_timestamp)=2018\n",
    "group by months \"\"\"\n",
    "\n",
    "cur.execute(query)\n",
    "\n",
    "data = cur.fetchall()\n",
    "\n",
    "df = pd.DataFrame(data, columns = [\"months\",\"order_count\"])\n",
    "\n",
    "o = [\"January\", \"February\",\"March\",\"April\",\"May\",\"June\",\"July\",\"August\",\"September\",\"October\"]\n",
    "\n",
    "ax = sns.barplot(x = df[\"months\"], y = df[\"order_count\"], data = df, order = o) \n",
    "plt.xticks(rotation = 45)\n",
    "ax.bar_label(ax.containers[0])\n",
    "plt.title(\"Count of Orders by Months in 2018\")\n",
    "\n",
    "plt.show()"
   ]
  },
  {
   "cell_type": "markdown",
   "id": "e9d2aaed-2e86-434a-8f41-a43b4dffb83b",
   "metadata": {},
   "source": [
    "# Find the average number of products per order, grouped by customer city"
   ]
  },
  {
   "cell_type": "code",
   "execution_count": 89,
   "id": "b3b056c0-0dd8-48f7-8ce6-c64b6ad4002c",
   "metadata": {},
   "outputs": [
    {
     "data": {
      "text/html": [
       "<div>\n",
       "<style scoped>\n",
       "    .dataframe tbody tr th:only-of-type {\n",
       "        vertical-align: middle;\n",
       "    }\n",
       "\n",
       "    .dataframe tbody tr th {\n",
       "        vertical-align: top;\n",
       "    }\n",
       "\n",
       "    .dataframe thead th {\n",
       "        text-align: right;\n",
       "    }\n",
       "</style>\n",
       "<table border=\"1\" class=\"dataframe\">\n",
       "  <thead>\n",
       "    <tr style=\"text-align: right;\">\n",
       "      <th></th>\n",
       "      <th>customer_city</th>\n",
       "      <th>average products per order</th>\n",
       "    </tr>\n",
       "  </thead>\n",
       "  <tbody>\n",
       "    <tr>\n",
       "      <th>0</th>\n",
       "      <td>padre carvalho</td>\n",
       "      <td>7.00</td>\n",
       "    </tr>\n",
       "    <tr>\n",
       "      <th>1</th>\n",
       "      <td>celso ramos</td>\n",
       "      <td>6.50</td>\n",
       "    </tr>\n",
       "    <tr>\n",
       "      <th>2</th>\n",
       "      <td>datas</td>\n",
       "      <td>6.00</td>\n",
       "    </tr>\n",
       "    <tr>\n",
       "      <th>3</th>\n",
       "      <td>candido godoi</td>\n",
       "      <td>6.00</td>\n",
       "    </tr>\n",
       "    <tr>\n",
       "      <th>4</th>\n",
       "      <td>matias olimpio</td>\n",
       "      <td>5.00</td>\n",
       "    </tr>\n",
       "    <tr>\n",
       "      <th>...</th>\n",
       "      <td>...</td>\n",
       "      <td>...</td>\n",
       "    </tr>\n",
       "    <tr>\n",
       "      <th>4105</th>\n",
       "      <td>lagoa da canoa</td>\n",
       "      <td>1.00</td>\n",
       "    </tr>\n",
       "    <tr>\n",
       "      <th>4106</th>\n",
       "      <td>japaratuba</td>\n",
       "      <td>1.00</td>\n",
       "    </tr>\n",
       "    <tr>\n",
       "      <th>4107</th>\n",
       "      <td>sebastiao leal</td>\n",
       "      <td>1.00</td>\n",
       "    </tr>\n",
       "    <tr>\n",
       "      <th>4108</th>\n",
       "      <td>morro agudo de goias</td>\n",
       "      <td>1.00</td>\n",
       "    </tr>\n",
       "    <tr>\n",
       "      <th>4109</th>\n",
       "      <td>padre paraiso</td>\n",
       "      <td>1.00</td>\n",
       "    </tr>\n",
       "  </tbody>\n",
       "</table>\n",
       "<p>4110 rows × 2 columns</p>\n",
       "</div>"
      ],
      "text/plain": [
       "             customer_city average products per order\n",
       "0           padre carvalho                       7.00\n",
       "1              celso ramos                       6.50\n",
       "2                    datas                       6.00\n",
       "3            candido godoi                       6.00\n",
       "4           matias olimpio                       5.00\n",
       "...                    ...                        ...\n",
       "4105        lagoa da canoa                       1.00\n",
       "4106            japaratuba                       1.00\n",
       "4107        sebastiao leal                       1.00\n",
       "4108  morro agudo de goias                       1.00\n",
       "4109         padre paraiso                       1.00\n",
       "\n",
       "[4110 rows x 2 columns]"
      ]
     },
     "execution_count": 89,
     "metadata": {},
     "output_type": "execute_result"
    }
   ],
   "source": [
    "query = \"\"\" with count_per_order as\n",
    "(select orders.order_id, orders.customer_id, count(order_items.order_id) as oc\n",
    "from orders join order_items\n",
    "on orders.order_id = order_items.order_id\n",
    "group by orders.order_id, orders.customer_id)\n",
    "\n",
    "select customers.customer_city, round(avg(count_per_order.oc),2) average_order\n",
    "from customers join count_per_order\n",
    "on customers.customer_id = count_per_order.customer_id \n",
    "group by customers.customer_city\n",
    "order by average_order desc \"\"\"\n",
    "\n",
    "cur.execute(query)\n",
    "\n",
    "data = cur.fetchall()\n",
    "\n",
    "df = pd.DataFrame(data, columns=['customer_city','average products per order'])\n",
    "df"
   ]
  },
  {
   "cell_type": "markdown",
   "id": "f5410f14-a690-47cd-90bd-9f41e95d55d2",
   "metadata": {},
   "source": [
    "# Identify the correlation between product price and the number of times a product has been purchased"
   ]
  },
  {
   "cell_type": "code",
   "execution_count": 127,
   "id": "767e529e-824f-4ea6-99d2-ab3eb559228c",
   "metadata": {},
   "outputs": [
    {
     "name": "stdout",
     "output_type": "stream",
     "text": [
      "The correlation between product price and the number of times a product has been purchased is      -0.10631514167157562\n"
     ]
    }
   ],
   "source": [
    "query = \"\"\" select products.product_category, count(order_items.product_id), round(avg(order_items.price),2) price\n",
    "from products join order_items\n",
    "on products.product_id = order_items.product_id\n",
    "group by products.product_category \"\"\"\n",
    "\n",
    "cur.execute(query)\n",
    "\n",
    "data = cur.fetchall()\n",
    "\n",
    "df = pd.DataFrame(data, columns=['product_category','order_count','price'])\n",
    "\n",
    "arr1 = df[\"order_count\"]\n",
    "arr2 = df[\"price\"]\n",
    "\n",
    "a = np.corrcoef([arr1,arr2])\n",
    "print(\"The correlation between product price and the number of times a product has been purchased is     \" , a[0][-1])"
   ]
  },
  {
   "cell_type": "markdown",
   "id": "4b0b89e7-8d6a-4ac3-8135-ab95d7996ea7",
   "metadata": {},
   "source": [
    "# Calculate the total revenue generated by each seller, and rank them by revenue"
   ]
  },
  {
   "cell_type": "code",
   "execution_count": 129,
   "id": "37fc2c82-c638-474a-a227-eed64ffa895d",
   "metadata": {},
   "outputs": [
    {
     "data": {
      "text/html": [
       "<div>\n",
       "<style scoped>\n",
       "    .dataframe tbody tr th:only-of-type {\n",
       "        vertical-align: middle;\n",
       "    }\n",
       "\n",
       "    .dataframe tbody tr th {\n",
       "        vertical-align: top;\n",
       "    }\n",
       "\n",
       "    .dataframe thead th {\n",
       "        text-align: right;\n",
       "    }\n",
       "</style>\n",
       "<table border=\"1\" class=\"dataframe\">\n",
       "  <thead>\n",
       "    <tr style=\"text-align: right;\">\n",
       "      <th></th>\n",
       "      <th>seller_id</th>\n",
       "      <th>revenue</th>\n",
       "      <th>Rank</th>\n",
       "    </tr>\n",
       "  </thead>\n",
       "  <tbody>\n",
       "    <tr>\n",
       "      <th>0</th>\n",
       "      <td>7c67e1448b00f6e969d365cea6b010ab</td>\n",
       "      <td>507166.91</td>\n",
       "      <td>1</td>\n",
       "    </tr>\n",
       "    <tr>\n",
       "      <th>1</th>\n",
       "      <td>1025f0e2d44d7041d6cf58b6550e0bfa</td>\n",
       "      <td>308222.04</td>\n",
       "      <td>2</td>\n",
       "    </tr>\n",
       "    <tr>\n",
       "      <th>2</th>\n",
       "      <td>4a3ca9315b744ce9f8e9374361493884</td>\n",
       "      <td>301245.27</td>\n",
       "      <td>3</td>\n",
       "    </tr>\n",
       "    <tr>\n",
       "      <th>3</th>\n",
       "      <td>1f50f920176fa81dab994f9023523100</td>\n",
       "      <td>290253.42</td>\n",
       "      <td>4</td>\n",
       "    </tr>\n",
       "    <tr>\n",
       "      <th>4</th>\n",
       "      <td>53243585a1d6dc2643021fd1853d8905</td>\n",
       "      <td>284903.08</td>\n",
       "      <td>5</td>\n",
       "    </tr>\n",
       "    <tr>\n",
       "      <th>...</th>\n",
       "      <td>...</td>\n",
       "      <td>...</td>\n",
       "      <td>...</td>\n",
       "    </tr>\n",
       "    <tr>\n",
       "      <th>3090</th>\n",
       "      <td>ad14615bdd492b01b0d97922e87cb87f</td>\n",
       "      <td>19.21</td>\n",
       "      <td>3076</td>\n",
       "    </tr>\n",
       "    <tr>\n",
       "      <th>3091</th>\n",
       "      <td>702835e4b785b67a084280efca355756</td>\n",
       "      <td>18.56</td>\n",
       "      <td>3077</td>\n",
       "    </tr>\n",
       "    <tr>\n",
       "      <th>3092</th>\n",
       "      <td>4965a7002cca77301c82d3f91b82e1a9</td>\n",
       "      <td>16.36</td>\n",
       "      <td>3078</td>\n",
       "    </tr>\n",
       "    <tr>\n",
       "      <th>3093</th>\n",
       "      <td>77128dec4bec4878c37ab7d6169d6f26</td>\n",
       "      <td>15.22</td>\n",
       "      <td>3079</td>\n",
       "    </tr>\n",
       "    <tr>\n",
       "      <th>3094</th>\n",
       "      <td>cf6f6bc4df3999b9c6440f124fb2f687</td>\n",
       "      <td>12.22</td>\n",
       "      <td>3080</td>\n",
       "    </tr>\n",
       "  </tbody>\n",
       "</table>\n",
       "<p>3095 rows × 3 columns</p>\n",
       "</div>"
      ],
      "text/plain": [
       "                             seller_id    revenue  Rank\n",
       "0     7c67e1448b00f6e969d365cea6b010ab  507166.91     1\n",
       "1     1025f0e2d44d7041d6cf58b6550e0bfa  308222.04     2\n",
       "2     4a3ca9315b744ce9f8e9374361493884  301245.27     3\n",
       "3     1f50f920176fa81dab994f9023523100  290253.42     4\n",
       "4     53243585a1d6dc2643021fd1853d8905  284903.08     5\n",
       "...                                ...        ...   ...\n",
       "3090  ad14615bdd492b01b0d97922e87cb87f      19.21  3076\n",
       "3091  702835e4b785b67a084280efca355756      18.56  3077\n",
       "3092  4965a7002cca77301c82d3f91b82e1a9      16.36  3078\n",
       "3093  77128dec4bec4878c37ab7d6169d6f26      15.22  3079\n",
       "3094  cf6f6bc4df3999b9c6440f124fb2f687      12.22  3080\n",
       "\n",
       "[3095 rows x 3 columns]"
      ]
     },
     "execution_count": 129,
     "metadata": {},
     "output_type": "execute_result"
    }
   ],
   "source": [
    "query = \"\"\" select *, dense_rank() over(order by revenue desc) as rnk from\n",
    "(select order_items.seller_id, round(sum(payments.payment_value),2) revenue\n",
    "from order_items join payments\n",
    "on order_items.order_id = payments.order_id \n",
    "group by order_items.seller_id) as a \"\"\"\n",
    "\n",
    "cur.execute(query)\n",
    "\n",
    "data = cur.fetchall()\n",
    "df = pd.DataFrame(data, columns=['seller_id','revenue', 'Rank'])\n",
    "df "
   ]
  },
  {
   "cell_type": "markdown",
   "id": "d882e796-45ec-4ec2-ad2b-e02b84c47e49",
   "metadata": {},
   "source": [
    "# Calculate the moving average of order values for each customer over their order history"
   ]
  },
  {
   "cell_type": "code",
   "execution_count": 3,
   "id": "4c7b28e9-e119-4c30-b68e-209f8f1c3075",
   "metadata": {},
   "outputs": [
    {
     "data": {
      "text/html": [
       "<div>\n",
       "<style scoped>\n",
       "    .dataframe tbody tr th:only-of-type {\n",
       "        vertical-align: middle;\n",
       "    }\n",
       "\n",
       "    .dataframe tbody tr th {\n",
       "        vertical-align: top;\n",
       "    }\n",
       "\n",
       "    .dataframe thead th {\n",
       "        text-align: right;\n",
       "    }\n",
       "</style>\n",
       "<table border=\"1\" class=\"dataframe\">\n",
       "  <thead>\n",
       "    <tr style=\"text-align: right;\">\n",
       "      <th></th>\n",
       "      <th>customer_id</th>\n",
       "      <th>order_purchase_timestamp</th>\n",
       "      <th>payments</th>\n",
       "      <th>moving_avg</th>\n",
       "    </tr>\n",
       "  </thead>\n",
       "  <tbody>\n",
       "    <tr>\n",
       "      <th>0</th>\n",
       "      <td>00012a2ce6f8dcda20d059ce98491703</td>\n",
       "      <td>2017-11-14 16:08:26</td>\n",
       "      <td>114.74</td>\n",
       "      <td>114.739998</td>\n",
       "    </tr>\n",
       "    <tr>\n",
       "      <th>1</th>\n",
       "      <td>000161a058600d5901f007fab4c27140</td>\n",
       "      <td>2017-07-16 09:40:32</td>\n",
       "      <td>67.41</td>\n",
       "      <td>67.410004</td>\n",
       "    </tr>\n",
       "    <tr>\n",
       "      <th>2</th>\n",
       "      <td>0001fd6190edaaf884bcaf3d49edf079</td>\n",
       "      <td>2017-02-28 11:06:43</td>\n",
       "      <td>195.42</td>\n",
       "      <td>195.419998</td>\n",
       "    </tr>\n",
       "    <tr>\n",
       "      <th>3</th>\n",
       "      <td>0002414f95344307404f0ace7a26f1d5</td>\n",
       "      <td>2017-08-16 13:09:20</td>\n",
       "      <td>179.35</td>\n",
       "      <td>179.350006</td>\n",
       "    </tr>\n",
       "    <tr>\n",
       "      <th>4</th>\n",
       "      <td>000379cdec625522490c315e70c7a9fb</td>\n",
       "      <td>2018-04-02 13:42:17</td>\n",
       "      <td>107.01</td>\n",
       "      <td>107.010002</td>\n",
       "    </tr>\n",
       "    <tr>\n",
       "      <th>...</th>\n",
       "      <td>...</td>\n",
       "      <td>...</td>\n",
       "      <td>...</td>\n",
       "      <td>...</td>\n",
       "    </tr>\n",
       "    <tr>\n",
       "      <th>103881</th>\n",
       "      <td>fffecc9f79fd8c764f843e9951b11341</td>\n",
       "      <td>2018-03-29 16:59:26</td>\n",
       "      <td>71.23</td>\n",
       "      <td>27.120001</td>\n",
       "    </tr>\n",
       "    <tr>\n",
       "      <th>103882</th>\n",
       "      <td>fffeda5b6d849fbd39689bb92087f431</td>\n",
       "      <td>2018-05-22 13:36:02</td>\n",
       "      <td>63.13</td>\n",
       "      <td>63.130001</td>\n",
       "    </tr>\n",
       "    <tr>\n",
       "      <th>103883</th>\n",
       "      <td>ffff42319e9b2d713724ae527742af25</td>\n",
       "      <td>2018-06-13 16:57:05</td>\n",
       "      <td>214.13</td>\n",
       "      <td>214.130005</td>\n",
       "    </tr>\n",
       "    <tr>\n",
       "      <th>103884</th>\n",
       "      <td>ffffa3172527f765de70084a7e53aae8</td>\n",
       "      <td>2017-09-02 11:53:32</td>\n",
       "      <td>45.50</td>\n",
       "      <td>45.500000</td>\n",
       "    </tr>\n",
       "    <tr>\n",
       "      <th>103885</th>\n",
       "      <td>ffffe8b65bbe3087b653a978c870db99</td>\n",
       "      <td>2017-09-29 14:07:03</td>\n",
       "      <td>18.37</td>\n",
       "      <td>18.370001</td>\n",
       "    </tr>\n",
       "  </tbody>\n",
       "</table>\n",
       "<p>103886 rows × 4 columns</p>\n",
       "</div>"
      ],
      "text/plain": [
       "                             customer_id order_purchase_timestamp  payments  \\\n",
       "0       00012a2ce6f8dcda20d059ce98491703      2017-11-14 16:08:26    114.74   \n",
       "1       000161a058600d5901f007fab4c27140      2017-07-16 09:40:32     67.41   \n",
       "2       0001fd6190edaaf884bcaf3d49edf079      2017-02-28 11:06:43    195.42   \n",
       "3       0002414f95344307404f0ace7a26f1d5      2017-08-16 13:09:20    179.35   \n",
       "4       000379cdec625522490c315e70c7a9fb      2018-04-02 13:42:17    107.01   \n",
       "...                                  ...                      ...       ...   \n",
       "103881  fffecc9f79fd8c764f843e9951b11341      2018-03-29 16:59:26     71.23   \n",
       "103882  fffeda5b6d849fbd39689bb92087f431      2018-05-22 13:36:02     63.13   \n",
       "103883  ffff42319e9b2d713724ae527742af25      2018-06-13 16:57:05    214.13   \n",
       "103884  ffffa3172527f765de70084a7e53aae8      2017-09-02 11:53:32     45.50   \n",
       "103885  ffffe8b65bbe3087b653a978c870db99      2017-09-29 14:07:03     18.37   \n",
       "\n",
       "        moving_avg  \n",
       "0       114.739998  \n",
       "1        67.410004  \n",
       "2       195.419998  \n",
       "3       179.350006  \n",
       "4       107.010002  \n",
       "...            ...  \n",
       "103881   27.120001  \n",
       "103882   63.130001  \n",
       "103883  214.130005  \n",
       "103884   45.500000  \n",
       "103885   18.370001  \n",
       "\n",
       "[103886 rows x 4 columns]"
      ]
     },
     "execution_count": 3,
     "metadata": {},
     "output_type": "execute_result"
    }
   ],
   "source": [
    "query = \"\"\" select customer_id, order_purchase_timestamp, payments,\n",
    "avg(payments) over(partition by customer_id order by order_purchase_timestamp \n",
    "rows between 2 preceding and current row) as mov_avg\n",
    "from\n",
    "(select orders.customer_id, orders.order_purchase_timestamp, payments.payment_value as payments\n",
    "from payments join orders\n",
    "on payments.order_id = orders.order_id) as a \"\"\"\n",
    "\n",
    "cur.execute(query)\n",
    "\n",
    "data = cur.fetchall()\n",
    "df = pd.DataFrame(data, columns=['customer_id','order_purchase_timestamp', 'payments', 'moving_avg'])\n",
    "df "
   ]
  },
  {
   "cell_type": "markdown",
   "id": "96e5b009-6cda-4c2a-b06a-e659cd0a9a3b",
   "metadata": {},
   "source": [
    "# Calculate the cumulative sales per month for each year"
   ]
  },
  {
   "cell_type": "code",
   "execution_count": 11,
   "id": "82cdbda6-de2d-4899-9ee8-e8549f756087",
   "metadata": {},
   "outputs": [
    {
     "data": {
      "image/png": "[encoded data removed]",
      "text/plain": [
       "<Figure size 800x300 with 1 Axes>"
      ]
     },
     "metadata": {},
     "output_type": "display_data"
    }
   ],
   "source": [
    "query = \"\"\" select years, months, payments, sum(payments)\n",
    " over(order by years, months) cummulative_sales from\n",
    "(select year(orders.order_purchase_timestamp) as years, month(orders.order_purchase_timestamp) as months,\n",
    "round(sum(payments.payment_value),2) as payments\n",
    "from orders join payments\n",
    "on payments.order_id = orders.order_id\n",
    "group by years, months\n",
    "order by years, months) as a \"\"\"\n",
    "\n",
    "cur.execute(query)\n",
    "\n",
    "data = cur.fetchall()\n",
    "df = pd.DataFrame(data, columns=['years','months', 'payments', 'cummulative_sales'])\n",
    "df['year_month'] = df['years'].astype(str) + '-' + df['months'].astype(str).str.zfill(2)\n",
    "\n",
    "plt.figure(figsize = (8, 3))\n",
    "sns.lineplot(data=df, x='year_month', y='cummulative_sales', marker='o')\n",
    "plt.xticks(rotation=45)\n",
    "plt.xlabel('Year-Month')\n",
    "plt.ylabel('Cumulative Sales')\n",
    "plt.title('Cumulative Monthly Sales Over Time')\n",
    "plt.tight_layout()\n",
    "plt.grid(True)\n",
    "plt.show()"
   ]
  },
  {
   "cell_type": "markdown",
   "id": "12b37566-f33a-43eb-8ab6-ca5224a3a1de",
   "metadata": {},
   "source": [
    "# Calculate the year-over-year growth rate of total sales"
   ]
  },
  {
   "cell_type": "code",
   "execution_count": 21,
   "id": "aa68811f-2783-44d2-8dc6-eef4d21b54b7",
   "metadata": {},
   "outputs": [
    {
     "data": {
      "text/html": [
       "<div>\n",
       "<style scoped>\n",
       "    .dataframe tbody tr th:only-of-type {\n",
       "        vertical-align: middle;\n",
       "    }\n",
       "\n",
       "    .dataframe tbody tr th {\n",
       "        vertical-align: top;\n",
       "    }\n",
       "\n",
       "    .dataframe thead th {\n",
       "        text-align: right;\n",
       "    }\n",
       "</style>\n",
       "<table border=\"1\" class=\"dataframe\">\n",
       "  <thead>\n",
       "    <tr style=\"text-align: right;\">\n",
       "      <th></th>\n",
       "      <th>year</th>\n",
       "      <th>yoy % growth</th>\n",
       "    </tr>\n",
       "  </thead>\n",
       "  <tbody>\n",
       "    <tr>\n",
       "      <th>0</th>\n",
       "      <td>2016</td>\n",
       "      <td>NaN</td>\n",
       "    </tr>\n",
       "    <tr>\n",
       "      <th>1</th>\n",
       "      <td>2017</td>\n",
       "      <td>12112.703761</td>\n",
       "    </tr>\n",
       "    <tr>\n",
       "      <th>2</th>\n",
       "      <td>2018</td>\n",
       "      <td>20.000924</td>\n",
       "    </tr>\n",
       "  </tbody>\n",
       "</table>\n",
       "</div>"
      ],
      "text/plain": [
       "   year  yoy % growth\n",
       "0  2016           NaN\n",
       "1  2017  12112.703761\n",
       "2  2018     20.000924"
      ]
     },
     "execution_count": 21,
     "metadata": {},
     "output_type": "execute_result"
    }
   ],
   "source": [
    "query = \"\"\" with a as \n",
    "(select year(orders.order_purchase_timestamp) as years, \n",
    "round(sum(payments.payment_value),2) as payments\n",
    "from orders join payments\n",
    "on payments.order_id = orders.order_id\n",
    "group by years\n",
    "order by years)\n",
    "select years, \n",
    "(payments-(lag(payments,1) over(order by years)))/(lag(payments,1) over(order by years))*100 previous_year \n",
    "from a \"\"\"\n",
    "\n",
    "cur.execute(query)\n",
    "\n",
    "data = cur.fetchall()\n",
    "df = pd.DataFrame(data, columns=[\"year\",\"yoy % growth\"])\n",
    "df"
   ]
  },
  {
   "cell_type": "markdown",
   "id": "1f84f359-c42c-463a-abf7-40ec7da10cf6",
   "metadata": {},
   "source": [
    "# Calculate the retention rate of customers, defined as the percentage of customers who make another purchase within 6 months of their first purchase"
   ]
  },
  {
   "cell_type": "code",
   "execution_count": 23,
   "id": "49d0a057-5e3d-44a9-a7b2-a212456eac3a",
   "metadata": {},
   "outputs": [
    {
     "data": {
      "text/plain": [
       "[(None,)]"
      ]
     },
     "execution_count": 23,
     "metadata": {},
     "output_type": "execute_result"
    }
   ],
   "source": [
    "query = \"\"\" with a as (select customers.customer_id, min(orders.order_purchase_timestamp) first_order\n",
    "from customers join orders\n",
    "on customers.customer_id = orders.customer_id\n",
    "group by customers.customer_id),\n",
    "b as (select a.customer_id, count(distinct orders.order_purchase_timestamp)\n",
    "from a join orders\n",
    "on orders.customer_id = a.customer_id\n",
    "and orders.order_purchase_timestamp > first_order\n",
    "and orders.order_purchase_timestamp < date_add(first_order, interval 6 month)\n",
    "group by a.customer_id)\n",
    "select 100*(count(distinct a.customer_id))/(count(distinct b.customer_id)) \n",
    "from a left join b\n",
    "on a.customer_id = b.customer_id; \"\"\"\n",
    "\n",
    "cur.execute(query)#\n",
    "\n",
    "data = cur.fetchall()\n",
    "data"
   ]
  },
  {
   "cell_type": "markdown",
   "id": "8340c42b-62e3-46e0-8caf-83c6f29db0f9",
   "metadata": {},
   "source": [
    "# As in this data, we don't have any repeating customers in intervals of 6 months, Hence getting no value "
   ]
  },
  {
   "cell_type": "markdown",
   "id": "d7558cd5-9895-49a9-b6aa-a71f487054a4",
   "metadata": {},
   "source": [
    "# Identify the top 3 customers who spent the most money in each year"
   ]
  },
  {
   "cell_type": "code",
   "execution_count": 33,
   "id": "b8453c8b-b878-4650-8d71-d5e60ae369b1",
   "metadata": {},
   "outputs": [
    {
     "data": {
      "text/plain": [
       "<function matplotlib.pyplot.show(close=None, block=None)>"
      ]
     },
     "execution_count": 33,
     "metadata": {},
     "output_type": "execute_result"
    },
    {
     "data": {
      "image/png": "[encoded data removed]",
      "text/plain": [
       "<Figure size 640x480 with 1 Axes>"
      ]
     },
     "metadata": {},
     "output_type": "display_data"
    }
   ],
   "source": [
    "query = \"\"\" select years, customer_id, payment, d_rank\n",
    "from\n",
    "(select year(orders.order_purchase_timestamp) years, orders.customer_id, sum(payments.payment_value) payment,\n",
    "dense_rank() over(partition by year(orders.order_purchase_timestamp) \n",
    "order by sum(payments.payment_value) desc) d_rank\n",
    "from orders join payments\n",
    "on payments.order_id = orders.order_id\n",
    "group by year(orders.order_purchase_timestamp), orders.customer_id) as a\n",
    "where d_rank <= 3 \"\"\"\n",
    "\n",
    "cur.execute(query)\n",
    "\n",
    "data = cur.fetchall()\n",
    "df = pd.DataFrame(data, columns=['years','id', 'payment', 'rank'])\n",
    "sns.barplot(x=\"id\", y=\"payment\", data=df, hue=\"years\")\n",
    "plt.xticks(rotation=90)\n",
    "plt.show"
   ]
  }
 ],
 "metadata": {
  "kernelspec": {
   "display_name": "Python (working_env)",
   "language": "python",
   "name": "working_env"
  },
  "language_info": {
   "codemirror_mode": {
    "name": "ipython",
    "version": 3
   },
   "file_extension": ".py",
   "mimetype": "text/x-python",
   "name": "python",
   "nbconvert_exporter": "python",
   "pygments_lexer": "ipython3",
   "version": "3.11.11"
  }
 },
 "nbformat": 4,
 "nbformat_minor": 5
}
